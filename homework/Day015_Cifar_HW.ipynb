{
 "cells": [
  {
   "cell_type": "markdown",
   "metadata": {},
   "source": [
    "## 『本次練習內容』\n",
    "#### 運用這幾天所學觀念搭建一個CNN分類器"
   ]
  },
  {
   "cell_type": "markdown",
   "metadata": {},
   "source": [
    "## 『本次練習目的』\n",
    "  #### 熟悉CNN分類器搭建步驟與原理\n",
    "  #### 學員們可以嘗試不同搭法，如使用不同的Maxpooling層，用GlobalAveragePooling取代Flatten等等"
   ]
  },
  {
   "cell_type": "code",
   "execution_count": 1,
   "metadata": {},
   "outputs": [
    {
     "name": "stderr",
     "output_type": "stream",
     "text": [
      "D:\\Anaconda3\\envs\\tensorflow\\lib\\site-packages\\h5py\\__init__.py:36: FutureWarning: Conversion of the second argument of issubdtype from `float` to `np.floating` is deprecated. In future, it will be treated as `np.float64 == np.dtype(float).type`.\n",
      "  from ._conv import register_converters as _register_converters\n",
      "Using TensorFlow backend.\n"
     ]
    }
   ],
   "source": [
    "from keras.models import Sequential\n",
    "from keras.layers import Convolution2D\n",
    "from keras.layers import MaxPooling2D\n",
    "from keras.layers import Flatten\n",
    "from keras.layers import Dense\n",
    "from keras.layers import Dropout\n",
    "from keras.layers import BatchNormalization\n",
    "from keras.datasets import cifar10\n",
    "import numpy as np\n",
    "import tensorflow as tf\n",
    "from sklearn.preprocessing import OneHotEncoder\n",
    "from keras import regularizers\n"
   ]
  },
  {
   "cell_type": "code",
   "execution_count": 2,
   "metadata": {},
   "outputs": [
    {
     "name": "stdout",
     "output_type": "stream",
     "text": [
      "(50000, 32, 32, 3)\n"
     ]
    }
   ],
   "source": [
    "(x_train, y_train), (x_test, y_test) = cifar10.load_data()\n",
    "\n",
    "print(x_train.shape) #(50000, 32, 32, 3)\n",
    "\n",
    "## Normalize Data\n",
    "def normalize(X_train,X_test):\n",
    "        mean = np.mean(X_train,axis=(0,1,2,3))\n",
    "        std = np.std(X_train, axis=(0, 1, 2, 3))\n",
    "        X_train = (X_train-mean)/(std+1e-7)\n",
    "        X_test = (X_test-mean)/(std+1e-7) \n",
    "        return X_train, X_test,mean,std\n",
    "    \n",
    "    \n",
    "## Normalize Training and Testset    \n",
    "x_train, x_test,mean_train,std_train = normalize(x_train, x_test) "
   ]
  },
  {
   "cell_type": "code",
   "execution_count": 3,
   "metadata": {},
   "outputs": [],
   "source": [
    "## OneHot Label 由(None, 1)-(None, 10)\n",
    "## ex. label=2,變成[0,0,1,0,0,0,0,0,0,0]\n",
    "one_hot=OneHotEncoder()\n",
    "y_train=one_hot.fit_transform(y_train).toarray()\n",
    "y_test=one_hot.transform(y_test).toarray()"
   ]
  },
  {
   "cell_type": "code",
   "execution_count": 4,
   "metadata": {},
   "outputs": [
    {
     "name": "stderr",
     "output_type": "stream",
     "text": [
      "D:\\Anaconda3\\envs\\tensorflow\\lib\\site-packages\\ipykernel_launcher.py:17: UserWarning: Update your `Dense` call to the Keras 2 API: `Dense(activation=\"relu\", kernel_regularizer=<keras.reg..., units=100)`\n",
      "D:\\Anaconda3\\envs\\tensorflow\\lib\\site-packages\\ipykernel_launcher.py:19: UserWarning: Update your `Dropout` call to the Keras 2 API: `Dropout(rate=0.25)`\n",
      "D:\\Anaconda3\\envs\\tensorflow\\lib\\site-packages\\ipykernel_launcher.py:22: UserWarning: Update your `Dense` call to the Keras 2 API: `Dense(activation=\"softmax\", units=10)`\n"
     ]
    },
    {
     "name": "stdout",
     "output_type": "stream",
     "text": [
      "Epoch 1/100\n",
      "50000/50000 [==============================] - 1515s 30ms/step - loss: 1.5418 - acc: 0.5341\n",
      "Epoch 2/100\n",
      "50000/50000 [==============================] - 1512s 30ms/step - loss: 1.1224 - acc: 0.6695\n",
      "Epoch 3/100\n",
      "50000/50000 [==============================] - 1651s 33ms/step - loss: 0.9917 - acc: 0.7171\n",
      "Epoch 4/100\n",
      "50000/50000 [==============================] - 1748s 35ms/step - loss: 0.9340 - acc: 0.7410\n",
      "Epoch 5/100\n",
      "50000/50000 [==============================] - 1708s 34ms/step - loss: 0.8873 - acc: 0.7647\n",
      "Epoch 6/100\n",
      "50000/50000 [==============================] - 1743s 35ms/step - loss: 0.8570 - acc: 0.7849\n",
      "Epoch 7/100\n",
      "50000/50000 [==============================] - 1748s 35ms/step - loss: 0.8341 - acc: 0.8002\n",
      "Epoch 8/100\n",
      "50000/50000 [==============================] - 1756s 35ms/step - loss: 0.8013 - acc: 0.8172\n",
      "Epoch 9/100\n",
      "50000/50000 [==============================] - 1749s 35ms/step - loss: 0.7918 - acc: 0.8249\n",
      "Epoch 10/100\n",
      "50000/50000 [==============================] - 1756s 35ms/step - loss: 0.7690 - acc: 0.8367\n",
      "Epoch 11/100\n",
      "50000/50000 [==============================] - 1757s 35ms/step - loss: 0.7628 - acc: 0.8438\n",
      "Epoch 12/100\n",
      "50000/50000 [==============================] - 1747s 35ms/step - loss: 0.7485 - acc: 0.8498\n",
      "Epoch 13/100\n",
      "50000/50000 [==============================] - 1755s 35ms/step - loss: 0.7284 - acc: 0.8598\n",
      "Epoch 14/100\n",
      "50000/50000 [==============================] - 1747s 35ms/step - loss: 0.7246 - acc: 0.8645\n",
      "Epoch 15/100\n",
      "50000/50000 [==============================] - 1758s 35ms/step - loss: 0.7134 - acc: 0.8699\n",
      "Epoch 16/100\n",
      "50000/50000 [==============================] - 1753s 35ms/step - loss: 0.7090 - acc: 0.8724\n",
      "Epoch 17/100\n",
      "50000/50000 [==============================] - 1752s 35ms/step - loss: 0.6954 - acc: 0.8788\n",
      "Epoch 18/100\n",
      "50000/50000 [==============================] - 1746s 35ms/step - loss: 0.6916 - acc: 0.8818\n",
      "Epoch 19/100\n",
      "50000/50000 [==============================] - 1747s 35ms/step - loss: 0.6951 - acc: 0.8826\n",
      "Epoch 20/100\n",
      "50000/50000 [==============================] - 1752s 35ms/step - loss: 0.6802 - acc: 0.8880\n",
      "Epoch 21/100\n",
      "50000/50000 [==============================] - 1753s 35ms/step - loss: 0.6789 - acc: 0.8905\n",
      "Epoch 22/100\n",
      "50000/50000 [==============================] - 1748s 35ms/step - loss: 0.6834 - acc: 0.8886\n",
      "Epoch 23/100\n",
      "50000/50000 [==============================] - 1758s 35ms/step - loss: 0.6600 - acc: 0.8969\n",
      "Epoch 24/100\n",
      "50000/50000 [==============================] - 1748s 35ms/step - loss: 0.6718 - acc: 0.8923\n",
      "Epoch 25/100\n",
      "50000/50000 [==============================] - 1760s 35ms/step - loss: 0.6703 - acc: 0.8955\n",
      "Epoch 26/100\n",
      "50000/50000 [==============================] - 1753s 35ms/step - loss: 0.6644 - acc: 0.8992\n",
      "Epoch 27/100\n",
      "50000/50000 [==============================] - 1753s 35ms/step - loss: 0.6595 - acc: 0.8998\n",
      "Epoch 28/100\n",
      "50000/50000 [==============================] - 1746s 35ms/step - loss: 0.6667 - acc: 0.8998\n",
      "Epoch 29/100\n",
      "50000/50000 [==============================] - 1753s 35ms/step - loss: 0.6526 - acc: 0.9033\n",
      "Epoch 30/100\n",
      "50000/50000 [==============================] - 1754s 35ms/step - loss: 0.6442 - acc: 0.9061\n",
      "Epoch 31/100\n",
      "50000/50000 [==============================] - 1751s 35ms/step - loss: 0.6539 - acc: 0.9013\n",
      "Epoch 32/100\n",
      "50000/50000 [==============================] - 1752s 35ms/step - loss: 0.6534 - acc: 0.9056\n",
      "Epoch 33/100\n",
      "50000/50000 [==============================] - 1749s 35ms/step - loss: 0.6383 - acc: 0.9085\n",
      "Epoch 34/100\n",
      "50000/50000 [==============================] - 1750s 35ms/step - loss: 0.6496 - acc: 0.9069\n",
      "Epoch 35/100\n",
      "50000/50000 [==============================] - 1750s 35ms/step - loss: 0.6478 - acc: 0.9080\n",
      "Epoch 36/100\n",
      "50000/50000 [==============================] - 1732s 35ms/step - loss: 0.6375 - acc: 0.9094\n",
      "Epoch 37/100\n",
      "50000/50000 [==============================] - 1457s 29ms/step - loss: 0.6402 - acc: 0.9099\n",
      "Epoch 38/100\n",
      "50000/50000 [==============================] - 1720s 34ms/step - loss: 0.6375 - acc: 0.9108\n",
      "Epoch 39/100\n",
      "50000/50000 [==============================] - 1706s 34ms/step - loss: 0.6370 - acc: 0.9108\n",
      "Epoch 40/100\n",
      "50000/50000 [==============================] - 1739s 35ms/step - loss: 0.6466 - acc: 0.9090\n",
      "Epoch 41/100\n",
      "50000/50000 [==============================] - 1717s 34ms/step - loss: 0.6425 - acc: 0.9115\n",
      "Epoch 42/100\n",
      "50000/50000 [==============================] - 1496s 30ms/step - loss: 0.6265 - acc: 0.9156\n",
      "Epoch 43/100\n",
      "50000/50000 [==============================] - 1464s 29ms/step - loss: 0.6353 - acc: 0.9127\n",
      "Epoch 44/100\n",
      "50000/50000 [==============================] - 1489s 30ms/step - loss: 0.6455 - acc: 0.9103\n",
      "Epoch 45/100\n",
      "50000/50000 [==============================] - 1517s 30ms/step - loss: 0.6301 - acc: 0.9150\n",
      "Epoch 46/100\n",
      "50000/50000 [==============================] - 1474s 29ms/step - loss: 0.6263 - acc: 0.9149\n",
      "Epoch 47/100\n",
      "50000/50000 [==============================] - 1462s 29ms/step - loss: 0.6176 - acc: 0.9178\n",
      "Epoch 48/100\n",
      "50000/50000 [==============================] - 1476s 30ms/step - loss: 0.6208 - acc: 0.9165\n",
      "Epoch 49/100\n",
      "50000/50000 [==============================] - 1483s 30ms/step - loss: 0.6184 - acc: 0.9175\n",
      "Epoch 50/100\n",
      "50000/50000 [==============================] - 1480s 30ms/step - loss: 0.6271 - acc: 0.9155\n",
      "Epoch 51/100\n",
      "50000/50000 [==============================] - 1556s 31ms/step - loss: 0.6279 - acc: 0.9156\n",
      "Epoch 52/100\n",
      "50000/50000 [==============================] - 1588s 32ms/step - loss: 0.6259 - acc: 0.9159\n",
      "Epoch 53/100\n",
      "50000/50000 [==============================] - 1570s 31ms/step - loss: 0.6180 - acc: 0.9171\n",
      "Epoch 54/100\n",
      "50000/50000 [==============================] - 1565s 31ms/step - loss: 0.6096 - acc: 0.9200\n",
      "Epoch 55/100\n",
      "50000/50000 [==============================] - 1566s 31ms/step - loss: 0.6105 - acc: 0.9196\n",
      "Epoch 56/100\n",
      "50000/50000 [==============================] - 1660s 33ms/step - loss: 0.6062 - acc: 0.9223\n",
      "Epoch 57/100\n",
      "50000/50000 [==============================] - 1714s 34ms/step - loss: 0.6202 - acc: 0.9184\n",
      "Epoch 58/100\n",
      "50000/50000 [==============================] - 1747s 35ms/step - loss: 0.6121 - acc: 0.9201\n",
      "Epoch 59/100\n",
      "50000/50000 [==============================] - 1728s 35ms/step - loss: 0.6071 - acc: 0.9216\n",
      "Epoch 60/100\n",
      "50000/50000 [==============================] - 1738s 35ms/step - loss: 0.6070 - acc: 0.9199\n",
      "Epoch 61/100\n",
      "50000/50000 [==============================] - 1731s 35ms/step - loss: 0.6046 - acc: 0.9235\n",
      "Epoch 62/100\n",
      "50000/50000 [==============================] - 1736s 35ms/step - loss: 0.6153 - acc: 0.9192\n",
      "Epoch 63/100\n",
      "50000/50000 [==============================] - 1729s 35ms/step - loss: 0.6190 - acc: 0.9204\n",
      "Epoch 64/100\n",
      "50000/50000 [==============================] - 1731s 35ms/step - loss: 0.6062 - acc: 0.9221\n",
      "Epoch 65/100\n",
      "50000/50000 [==============================] - 1732s 35ms/step - loss: 0.5992 - acc: 0.9241\n",
      "Epoch 66/100\n",
      "50000/50000 [==============================] - 1734s 35ms/step - loss: 0.6074 - acc: 0.9227\n",
      "Epoch 67/100\n",
      "50000/50000 [==============================] - 1732s 35ms/step - loss: 0.6039 - acc: 0.9233\n",
      "Epoch 68/100\n",
      "50000/50000 [==============================] - 1736s 35ms/step - loss: 0.5995 - acc: 0.9253\n",
      "Epoch 69/100\n",
      "50000/50000 [==============================] - 1726s 35ms/step - loss: 0.6078 - acc: 0.9215\n",
      "Epoch 70/100\n",
      "50000/50000 [==============================] - 1733s 35ms/step - loss: 0.6035 - acc: 0.9227\n",
      "Epoch 71/100\n",
      "50000/50000 [==============================] - 1725s 35ms/step - loss: 0.6089 - acc: 0.9223\n",
      "Epoch 72/100\n",
      "50000/50000 [==============================] - 1730s 35ms/step - loss: 0.5990 - acc: 0.9250\n",
      "Epoch 73/100\n",
      "50000/50000 [==============================] - 1724s 34ms/step - loss: 0.5936 - acc: 0.9258\n",
      "Epoch 74/100\n",
      "50000/50000 [==============================] - 1728s 35ms/step - loss: 0.5966 - acc: 0.9242\n",
      "Epoch 75/100\n",
      "50000/50000 [==============================] - 1728s 35ms/step - loss: 0.5935 - acc: 0.9274\n",
      "Epoch 76/100\n",
      "50000/50000 [==============================] - 1734s 35ms/step - loss: 0.5962 - acc: 0.9253\n",
      "Epoch 77/100\n",
      "50000/50000 [==============================] - 1745s 35ms/step - loss: 0.5902 - acc: 0.9261\n",
      "Epoch 78/100\n",
      "50000/50000 [==============================] - 1735s 35ms/step - loss: 0.5970 - acc: 0.9240\n",
      "Epoch 79/100\n"
     ]
    },
    {
     "name": "stdout",
     "output_type": "stream",
     "text": [
      "50000/50000 [==============================] - 1725s 34ms/step - loss: 0.6080 - acc: 0.9225\n",
      "Epoch 80/100\n",
      "50000/50000 [==============================] - 1724s 34ms/step - loss: 0.5979 - acc: 0.9251\n",
      "Epoch 81/100\n",
      "50000/50000 [==============================] - 1728s 35ms/step - loss: 0.5857 - acc: 0.9296\n",
      "Epoch 82/100\n",
      "50000/50000 [==============================] - 1721s 34ms/step - loss: 0.5921 - acc: 0.9257\n",
      "Epoch 83/100\n",
      "50000/50000 [==============================] - 1717s 34ms/step - loss: 0.5856 - acc: 0.9283\n",
      "Epoch 84/100\n",
      "50000/50000 [==============================] - 1740s 35ms/step - loss: 0.5987 - acc: 0.9254\n",
      "Epoch 85/100\n",
      "50000/50000 [==============================] - 1731s 35ms/step - loss: 0.5816 - acc: 0.9296\n",
      "Epoch 86/100\n",
      "50000/50000 [==============================] - 1725s 35ms/step - loss: 0.5877 - acc: 0.9270\n",
      "Epoch 87/100\n",
      "50000/50000 [==============================] - 1720s 34ms/step - loss: 0.5875 - acc: 0.9277\n",
      "Epoch 88/100\n",
      "50000/50000 [==============================] - 1718s 34ms/step - loss: 0.5821 - acc: 0.9288\n",
      "Epoch 89/100\n",
      "50000/50000 [==============================] - 1554s 31ms/step - loss: 0.5791 - acc: 0.9295\n",
      "Epoch 90/100\n",
      "50000/50000 [==============================] - 1425s 29ms/step - loss: 0.5877 - acc: 0.9279\n",
      "Epoch 91/100\n",
      "50000/50000 [==============================] - 1441s 29ms/step - loss: 0.5850 - acc: 0.9290\n",
      "Epoch 92/100\n",
      "50000/50000 [==============================] - 1492s 30ms/step - loss: 0.5990 - acc: 0.9246\n",
      "Epoch 93/100\n",
      "50000/50000 [==============================] - 1598s 32ms/step - loss: 0.5761 - acc: 0.9316\n",
      "Epoch 94/100\n",
      "50000/50000 [==============================] - 1689s 34ms/step - loss: 0.5802 - acc: 0.9297\n",
      "Epoch 95/100\n",
      "50000/50000 [==============================] - 1679s 34ms/step - loss: 0.5815 - acc: 0.9290\n",
      "Epoch 96/100\n",
      "50000/50000 [==============================] - 1705s 34ms/step - loss: 0.5789 - acc: 0.9315\n",
      "Epoch 97/100\n",
      "50000/50000 [==============================] - 1732s 35ms/step - loss: 0.5805 - acc: 0.9301\n",
      "Epoch 98/100\n",
      "50000/50000 [==============================] - 1741s 35ms/step - loss: 0.5830 - acc: 0.9285\n",
      "Epoch 99/100\n",
      "50000/50000 [==============================] - 1569s 31ms/step - loss: 0.5832 - acc: 0.9284\n",
      "Epoch 100/100\n",
      "50000/50000 [==============================] - 1638s 33ms/step - loss: 0.5754 - acc: 0.9319\n"
     ]
    },
    {
     "data": {
      "text/plain": [
       "<keras.callbacks.History at 0x255e14c0828>"
      ]
     },
     "execution_count": 4,
     "metadata": {},
     "output_type": "execute_result"
    }
   ],
   "source": [
    "classifier=Sequential()\n",
    "\n",
    "#卷積組合\n",
    "classifier.add(Convolution2D(filters=32, kernel_size=(3,3), input_shape=(32,32,3), activation='relu', padding='same'))  #32,3,3,input_shape=(32,32,3),activation='relu''\n",
    "classifier.add(BatchNormalization())\n",
    "classifier.add(MaxPooling2D(pool_size=(2,2)))\n",
    "\n",
    "#卷積組合\n",
    "classifier.add(Convolution2D(filters=64, kernel_size=(3,3), activation='relu', padding='same'))\n",
    "classifier.add(BatchNormalization())\n",
    "classifier.add(MaxPooling2D(pool_size=(2,2)))\n",
    "\n",
    "#flatten\n",
    "classifier.add(Flatten())\n",
    "\n",
    "#FC\n",
    "classifier.add(Dense(output_dim=100,activation='relu', kernel_regularizer=regularizers.l2(l=0.001)))\n",
    "classifier.add(BatchNormalization())\n",
    "classifier.add(Dropout(p=0.25))\n",
    "\n",
    "#輸出\n",
    "classifier.add(Dense(output_dim=10,activation='softmax'))\n",
    "\n",
    "#超過兩個就要選categorical_crossentrophy\n",
    "classifier.compile(optimizer = 'adam', loss = 'categorical_crossentropy', metrics = ['accuracy'])\n",
    "classifier.fit(x_train,y_train,batch_size=100,epochs=100)"
   ]
  },
  {
   "cell_type": "markdown",
   "metadata": {},
   "source": [
    "## 預測新圖片，輸入影像前處理要與訓練時相同\n",
    "#### ((X-mean)/(std+1e-7) ):這裡的mean跟std是訓練集的\n",
    "## 維度如下方示範"
   ]
  },
  {
   "cell_type": "code",
   "execution_count": 5,
   "metadata": {},
   "outputs": [
    {
     "data": {
      "text/plain": [
       "array([[2.7149623e-02, 7.5285818e-05, 1.5504545e-02, 7.8020585e-01,\n",
       "        1.0822449e-01, 3.4720169e-03, 2.5337933e-02, 3.3928011e-02,\n",
       "        5.8864835e-03, 2.1577845e-04]], dtype=float32)"
      ]
     },
     "execution_count": 5,
     "metadata": {},
     "output_type": "execute_result"
    }
   ],
   "source": [
    "input_example=(np.zeros(shape=(1,32,32,3))-mean_train)/(std_train+1e-7) \n",
    "classifier.predict(input_example)"
   ]
  }
 ],
 "metadata": {
  "kernelspec": {
   "display_name": "Python 3",
   "language": "python",
   "name": "python3"
  },
  "language_info": {
   "codemirror_mode": {
    "name": "ipython",
    "version": 3
   },
   "file_extension": ".py",
   "mimetype": "text/x-python",
   "name": "python",
   "nbconvert_exporter": "python",
   "pygments_lexer": "ipython3",
   "version": "3.6.5"
  }
 },
 "nbformat": 4,
 "nbformat_minor": 2
}
